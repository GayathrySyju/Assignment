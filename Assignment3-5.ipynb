{
 "cells": [
  {
   "cell_type": "code",
   "execution_count": 37,
   "id": "0899ea2f-8bd9-47d4-8d5f-ea32ec8f3837",
   "metadata": {},
   "outputs": [
    {
     "name": "stdin",
     "output_type": "stream",
     "text": [
      "rows:  3\n",
      "columns:  3\n",
      "Enter no:  1\n",
      "Enter no:  2\n",
      "Enter no:  3\n",
      "Enter no:  4\n",
      "Enter no:  5\n",
      "Enter no:  5\n",
      "Enter no:  7\n",
      "Enter no:  8\n",
      "Enter no:  9\n"
     ]
    },
    {
     "name": "stdout",
     "output_type": "stream",
     "text": [
      "[ 1 2 3 ]\n",
      "[ 4 5 5 ]\n",
      "[ 7 8 9 ]\n",
      "\n"
     ]
    }
   ],
   "source": [
    "r = int(input(\"rows: \"))\n",
    "c =int(input(\"columns: \")) \n",
    "matrix=[] \n",
    "for i in range(r):\n",
    "    row=[] \n",
    "    for j in range(c):\n",
    "        num = int(input(\"Enter no: \"))\n",
    "        row.append(num)\n",
    "    matrix.append(row)\n",
    "\n",
    "for i in range(r): \n",
    "    print(\"[\", end=\" \")\n",
    "    for j in range(c): \n",
    "        print(\"{}\".format(matrix[i][j]),end=\" \")\n",
    "    print(\"]\")    \n",
    "print()\n",
    "    "
   ]
  },
  {
   "cell_type": "code",
   "execution_count": 16,
   "id": "a685e003-b17c-4422-8ad1-1e0780dc214a",
   "metadata": {},
   "outputs": [
    {
     "name": "stdin",
     "output_type": "stream",
     "text": [
      "rows:  2\n",
      "columns:  2\n",
      "Enter value for :  1\n",
      "Enter value for :  2\n",
      "Enter value for :  3\n",
      "Enter value for :  4\n"
     ]
    },
    {
     "name": "stdout",
     "output_type": "stream",
     "text": [
      "[1, 2]\n",
      "[3, 4]\n",
      "\n"
     ]
    }
   ],
   "source": [
    "r = int(input(\"rows: \"))\n",
    "c =int(input(\"columns: \"))  \n",
    "matrix = [[int(input(\"Enter value for : \")) for j in range(c)] for i in range(r)]\n",
    "[print(i) for i in matrix]\n",
    "print()"
   ]
  },
  {
   "cell_type": "code",
   "execution_count": 21,
   "id": "167ac62d-71e2-4218-9496-6cb2dce8a1e1",
   "metadata": {},
   "outputs": [
    {
     "name": "stdout",
     "output_type": "stream",
     "text": [
      "3\n",
      "[1, 2, 4]\n",
      "[1, 2, 3, 4]\n"
     ]
    }
   ],
   "source": [
    "list1 = [1,2,3,4]\n",
    "a=list1.pop(2)\n",
    "print(a)\n",
    "print(list1)\n",
    "list1.insert(2,a)\n",
    "print(list1)"
   ]
  },
  {
   "cell_type": "code",
   "execution_count": 22,
   "id": "04bf20c2-fe36-47b6-a6dc-5a2e8bd23144",
   "metadata": {},
   "outputs": [
    {
     "name": "stdout",
     "output_type": "stream",
     "text": [
      "None\n",
      "[1, 3, 4]\n",
      "[1, 3, None, 4]\n"
     ]
    }
   ],
   "source": [
    "list1 = [1,2,3,4]\n",
    "a=list1.remove(2)\n",
    "print(a)\n",
    "print(list1)\n",
    "list1.insert(2,a)\n",
    "print(list1)"
   ]
  },
  {
   "cell_type": "code",
   "execution_count": null,
   "id": "d31f3a42-3688-4a21-88d1-17e273c6e1dc",
   "metadata": {},
   "outputs": [],
   "source": []
  }
 ],
 "metadata": {
  "kernelspec": {
   "display_name": "Python 3 (ipykernel)",
   "language": "python",
   "name": "python3"
  },
  "language_info": {
   "codemirror_mode": {
    "name": "ipython",
    "version": 3
   },
   "file_extension": ".py",
   "mimetype": "text/x-python",
   "name": "python",
   "nbconvert_exporter": "python",
   "pygments_lexer": "ipython3",
   "version": "3.11.0"
  }
 },
 "nbformat": 4,
 "nbformat_minor": 5
}
